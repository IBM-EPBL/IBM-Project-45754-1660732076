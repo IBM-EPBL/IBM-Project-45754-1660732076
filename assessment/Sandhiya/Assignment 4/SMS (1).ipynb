{
  "nbformat": 4,
  "nbformat_minor": 0,
  "metadata": {
    "colab": {
      "provenance": []
    },
    "kernelspec": {
      "name": "python3",
      "display_name": "Python 3"
    },
    "language_info": {
      "name": "python"
    }
  },
  "cells": [
    {
      "cell_type": "code",
      "execution_count": null,
      "metadata": {
        "id": "F-d48bhiDoAN"
      },
      "outputs": [],
      "source": [
        "import pandas as pd\n",
        "import numpy as np\n",
        "import matplotlib.pyplot as plt\n",
        "import seaborn as sns\n",
        "from sklearn.model_selection import train_test_split\n",
        "from sklearn.preprocessing import LabelEncoder\n",
        "from keras.models import Model\n",
        "from keras.layers import LSTM, Activation, Dense, Dropout, Input, Embedding\n",
        "from keras.optimizers import RMSprop\n",
        "from keras.preprocessing.text import Tokenizer\n",
        "from keras.preprocessing import sequence\n",
        "from keras.utils import to_categorical\n",
        "from keras.callbacks import EarlyStopping\n",
        "%matplotlib inline"
      ]
    },
    {
      "cell_type": "code",
      "source": [
        "df = pd.read_csv('/content/spam.csv',delimiter=',',encoding='latin-1')\n",
        "df.head()"
      ],
      "metadata": {
        "colab": {
          "base_uri": "https://localhost:8080/",
          "height": 231
        },
        "id": "orm5wUqIJ9BD",
        "outputId": "33786b0a-2cbc-4f79-b566-d9f626a927df"
      },
      "execution_count": null,
      "outputs": [
        {
          "output_type": "execute_result",
          "data": {
            "text/plain": [
              "     v1                                                 v2 Unnamed: 2  \\\n",
              "0   ham  Go until jurong point, crazy.. Available only ...        NaN   \n",
              "1   ham                      Ok lar... Joking wif u oni...        NaN   \n",
              "2  spam  Free entry in 2 a wkly comp to win FA Cup fina...        NaN   \n",
              "3   ham  U dun say so early hor... U c already then say...        NaN   \n",
              "4   ham  Nah I don't think he goes to usf, he lives aro...        NaN   \n",
              "\n",
              "  Unnamed: 3 Unnamed: 4  \n",
              "0        NaN        NaN  \n",
              "1        NaN        NaN  \n",
              "2        NaN        NaN  \n",
              "3        NaN        NaN  \n",
              "4        NaN        NaN  "
            ],
            "text/html": [
              "\n",
              "  <div id=\"df-9fbf4a3e-d00f-4afd-ac1d-ec4ccf8e3591\">\n",
              "    <div class=\"colab-df-container\">\n",
              "      <div>\n",
              "<style scoped>\n",
              "    .dataframe tbody tr th:only-of-type {\n",
              "        vertical-align: middle;\n",
              "    }\n",
              "\n",
              "    .dataframe tbody tr th {\n",
              "        vertical-align: top;\n",
              "    }\n",
              "\n",
              "    .dataframe thead th {\n",
              "        text-align: right;\n",
              "    }\n",
              "</style>\n",
              "<table border=\"1\" class=\"dataframe\">\n",
              "  <thead>\n",
              "    <tr style=\"text-align: right;\">\n",
              "      <th></th>\n",
              "      <th>v1</th>\n",
              "      <th>v2</th>\n",
              "      <th>Unnamed: 2</th>\n",
              "      <th>Unnamed: 3</th>\n",
              "      <th>Unnamed: 4</th>\n",
              "    </tr>\n",
              "  </thead>\n",
              "  <tbody>\n",
              "    <tr>\n",
              "      <th>0</th>\n",
              "      <td>ham</td>\n",
              "      <td>Go until jurong point, crazy.. Available only ...</td>\n",
              "      <td>NaN</td>\n",
              "      <td>NaN</td>\n",
              "      <td>NaN</td>\n",
              "    </tr>\n",
              "    <tr>\n",
              "      <th>1</th>\n",
              "      <td>ham</td>\n",
              "      <td>Ok lar... Joking wif u oni...</td>\n",
              "      <td>NaN</td>\n",
              "      <td>NaN</td>\n",
              "      <td>NaN</td>\n",
              "    </tr>\n",
              "    <tr>\n",
              "      <th>2</th>\n",
              "      <td>spam</td>\n",
              "      <td>Free entry in 2 a wkly comp to win FA Cup fina...</td>\n",
              "      <td>NaN</td>\n",
              "      <td>NaN</td>\n",
              "      <td>NaN</td>\n",
              "    </tr>\n",
              "    <tr>\n",
              "      <th>3</th>\n",
              "      <td>ham</td>\n",
              "      <td>U dun say so early hor... U c already then say...</td>\n",
              "      <td>NaN</td>\n",
              "      <td>NaN</td>\n",
              "      <td>NaN</td>\n",
              "    </tr>\n",
              "    <tr>\n",
              "      <th>4</th>\n",
              "      <td>ham</td>\n",
              "      <td>Nah I don't think he goes to usf, he lives aro...</td>\n",
              "      <td>NaN</td>\n",
              "      <td>NaN</td>\n",
              "      <td>NaN</td>\n",
              "    </tr>\n",
              "  </tbody>\n",
              "</table>\n",
              "</div>\n",
              "      <button class=\"colab-df-convert\" onclick=\"convertToInteractive('df-9fbf4a3e-d00f-4afd-ac1d-ec4ccf8e3591')\"\n",
              "              title=\"Convert this dataframe to an interactive table.\"\n",
              "              style=\"display:none;\">\n",
              "        \n",
              "  <svg xmlns=\"http://www.w3.org/2000/svg\" height=\"24px\"viewBox=\"0 0 24 24\"\n",
              "       width=\"24px\">\n",
              "    <path d=\"M0 0h24v24H0V0z\" fill=\"none\"/>\n",
              "    <path d=\"M18.56 5.44l.94 2.06.94-2.06 2.06-.94-2.06-.94-.94-2.06-.94 2.06-2.06.94zm-11 1L8.5 8.5l.94-2.06 2.06-.94-2.06-.94L8.5 2.5l-.94 2.06-2.06.94zm10 10l.94 2.06.94-2.06 2.06-.94-2.06-.94-.94-2.06-.94 2.06-2.06.94z\"/><path d=\"M17.41 7.96l-1.37-1.37c-.4-.4-.92-.59-1.43-.59-.52 0-1.04.2-1.43.59L10.3 9.45l-7.72 7.72c-.78.78-.78 2.05 0 2.83L4 21.41c.39.39.9.59 1.41.59.51 0 1.02-.2 1.41-.59l7.78-7.78 2.81-2.81c.8-.78.8-2.07 0-2.86zM5.41 20L4 18.59l7.72-7.72 1.47 1.35L5.41 20z\"/>\n",
              "  </svg>\n",
              "      </button>\n",
              "      \n",
              "  <style>\n",
              "    .colab-df-container {\n",
              "      display:flex;\n",
              "      flex-wrap:wrap;\n",
              "      gap: 12px;\n",
              "    }\n",
              "\n",
              "    .colab-df-convert {\n",
              "      background-color: #E8F0FE;\n",
              "      border: none;\n",
              "      border-radius: 50%;\n",
              "      cursor: pointer;\n",
              "      display: none;\n",
              "      fill: #1967D2;\n",
              "      height: 32px;\n",
              "      padding: 0 0 0 0;\n",
              "      width: 32px;\n",
              "    }\n",
              "\n",
              "    .colab-df-convert:hover {\n",
              "      background-color: #E2EBFA;\n",
              "      box-shadow: 0px 1px 2px rgba(60, 64, 67, 0.3), 0px 1px 3px 1px rgba(60, 64, 67, 0.15);\n",
              "      fill: #174EA6;\n",
              "    }\n",
              "\n",
              "    [theme=dark] .colab-df-convert {\n",
              "      background-color: #3B4455;\n",
              "      fill: #D2E3FC;\n",
              "    }\n",
              "\n",
              "    [theme=dark] .colab-df-convert:hover {\n",
              "      background-color: #434B5C;\n",
              "      box-shadow: 0px 1px 3px 1px rgba(0, 0, 0, 0.15);\n",
              "      filter: drop-shadow(0px 1px 2px rgba(0, 0, 0, 0.3));\n",
              "      fill: #FFFFFF;\n",
              "    }\n",
              "  </style>\n",
              "\n",
              "      <script>\n",
              "        const buttonEl =\n",
              "          document.querySelector('#df-9fbf4a3e-d00f-4afd-ac1d-ec4ccf8e3591 button.colab-df-convert');\n",
              "        buttonEl.style.display =\n",
              "          google.colab.kernel.accessAllowed ? 'block' : 'none';\n",
              "\n",
              "        async function convertToInteractive(key) {\n",
              "          const element = document.querySelector('#df-9fbf4a3e-d00f-4afd-ac1d-ec4ccf8e3591');\n",
              "          const dataTable =\n",
              "            await google.colab.kernel.invokeFunction('convertToInteractive',\n",
              "                                                     [key], {});\n",
              "          if (!dataTable) return;\n",
              "\n",
              "          const docLinkHtml = 'Like what you see? Visit the ' +\n",
              "            '<a target=\"_blank\" href=https://colab.research.google.com/notebooks/data_table.ipynb>data table notebook</a>'\n",
              "            + ' to learn more about interactive tables.';\n",
              "          element.innerHTML = '';\n",
              "          dataTable['output_type'] = 'display_data';\n",
              "          await google.colab.output.renderOutput(dataTable, element);\n",
              "          const docLink = document.createElement('div');\n",
              "          docLink.innerHTML = docLinkHtml;\n",
              "          element.appendChild(docLink);\n",
              "        }\n",
              "      </script>\n",
              "    </div>\n",
              "  </div>\n",
              "  "
            ]
          },
          "metadata": {},
          "execution_count": 12
        }
      ]
    },
    {
      "cell_type": "code",
      "source": [
        "df.drop(['Unnamed: 2', 'Unnamed: 3', 'Unnamed: 4'],axis=1,inplace=True)\n",
        "df.info()"
      ],
      "metadata": {
        "colab": {
          "base_uri": "https://localhost:8080/"
        },
        "id": "_nfFae6xKLK7",
        "outputId": "6a69c70e-5292-4f86-8de0-874f55f0b14b"
      },
      "execution_count": null,
      "outputs": [
        {
          "output_type": "stream",
          "name": "stdout",
          "text": [
            "<class 'pandas.core.frame.DataFrame'>\n",
            "RangeIndex: 5572 entries, 0 to 5571\n",
            "Data columns (total 2 columns):\n",
            " #   Column  Non-Null Count  Dtype \n",
            "---  ------  --------------  ----- \n",
            " 0   v1      5572 non-null   object\n",
            " 1   v2      5572 non-null   object\n",
            "dtypes: object(2)\n",
            "memory usage: 87.2+ KB\n"
          ]
        }
      ]
    },
    {
      "cell_type": "code",
      "source": [
        "sns.countplot(df.v1)\n",
        "plt.xlabel('Label')\n",
        "plt.title('Number of ham and spam messages')"
      ],
      "metadata": {
        "colab": {
          "base_uri": "https://localhost:8080/",
          "height": 367
        },
        "id": "4L55YHvcKNQO",
        "outputId": "3d15c16e-4f3f-4052-b2b4-3d0c696fc795"
      },
      "execution_count": null,
      "outputs": [
        {
          "output_type": "stream",
          "name": "stderr",
          "text": [
            "/usr/local/lib/python3.7/dist-packages/seaborn/_decorators.py:43: FutureWarning: Pass the following variable as a keyword arg: x. From version 0.12, the only valid positional argument will be `data`, and passing other arguments without an explicit keyword will result in an error or misinterpretation.\n",
            "  FutureWarning\n"
          ]
        },
        {
          "output_type": "execute_result",
          "data": {
            "text/plain": [
              "Text(0.5, 1.0, 'Number of ham and spam messages')"
            ]
          },
          "metadata": {},
          "execution_count": 14
        },
        {
          "output_type": "display_data",
          "data": {
            "text/plain": [
              "<Figure size 432x288 with 1 Axes>"
            ],
            "image/png": "[encoded data removed]"
          },
          "metadata": {
            "needs_background": "light"
          }
        }
      ]
    },
    {
      "cell_type": "code",
      "source": [
        "X = df.v2\n",
        "Y = df.v1\n",
        "le = LabelEncoder()\n",
        "Y = le.fit_transform(Y)\n",
        "Y = Y.reshape(-1,1)"
      ],
      "metadata": {
        "id": "VkyAZmH0KReo"
      },
      "execution_count": null,
      "outputs": []
    },
    {
      "cell_type": "code",
      "source": [
        "X_train,X_test,Y_train,Y_test = train_test_split(X,Y,test_size=0.15)"
      ],
      "metadata": {
        "id": "ErzLC3VJKVc8"
      },
      "execution_count": null,
      "outputs": []
    },
    {
      "cell_type": "code",
      "source": [
        "X_train.head()"
      ],
      "metadata": {
        "colab": {
          "base_uri": "https://localhost:8080/"
        },
        "id": "4x7u1N96TBH5",
        "outputId": "8621bfc0-5402-46d4-ed0a-0375f7a8abce"
      },
      "execution_count": null,
      "outputs": [
        {
          "output_type": "execute_result",
          "data": {
            "text/plain": [
              "4732    Good Morning my Dear Shijutta........... Have ...\n",
              "1022                             We still on for tonight?\n",
              "2012    Beautiful Truth against Gravity.. Read careful...\n",
              "1026                         Yes da. Any plm at ur office\n",
              "1226    Reply with your name and address and YOU WILL ...\n",
              "Name: v2, dtype: object"
            ]
          },
          "metadata": {},
          "execution_count": 36
        }
      ]
    },
    {
      "cell_type": "code",
      "source": [
        "from keras_preprocessing.sequence import pad_sequences"
      ],
      "metadata": {
        "id": "oBvkd6OXLdqd"
      },
      "execution_count": null,
      "outputs": []
    },
    {
      "cell_type": "code",
      "source": [
        "from keras import preprocessing\n",
        "import keras\n",
        "max_words = 1000\n",
        "max_len = 150\n",
        "tok = Tokenizer(num_words=max_words)\n",
        "tok.fit_on_texts(X_train)\n",
        "sequences = tok.texts_to_sequences(X_train)\n",
        "sequences_matrix = pad_sequences(sequences,maxlen=max_len)"
      ],
      "metadata": {
        "id": "gjbeEdS-KZRO"
      },
      "execution_count": null,
      "outputs": []
    },
    {
      "cell_type": "code",
      "source": [
        "def RNN():\n",
        "    inputs = Input(name='inputs',shape=[max_len])\n",
        "    layer = Embedding(max_words,50,input_length=max_len)(inputs)\n",
        "    layer = LSTM(64)(layer)\n",
        "    layer = Dense(256,name='FC1')(layer)\n",
        "    layer = Activation('relu')(layer)\n",
        "    layer = Dropout(0.5)(layer)\n",
        "    layer = Dense(1,name='out_layer')(layer)\n",
        "    layer = Activation('sigmoid')(layer)\n",
        "    model = Model(inputs=inputs,outputs=layer)\n",
        "    return model"
      ],
      "metadata": {
        "id": "CI3E5BNBKtI_"
      },
      "execution_count": null,
      "outputs": []
    },
    {
      "cell_type": "code",
      "source": [
        "model = RNN()\n",
        "model.summary()\n",
        "model.compile(loss='binary_crossentropy',optimizer=RMSprop(),metrics=['accuracy'])"
      ],
      "metadata": {
        "colab": {
          "base_uri": "https://localhost:8080/"
        },
        "id": "iq_-YybfKwHI",
        "outputId": "8cfd353d-a35c-4972-d4f5-f8d4197e368a"
      },
      "execution_count": null,
      "outputs": [
        {
          "output_type": "stream",
          "name": "stdout",
          "text": [
            "Model: \"model\"\n",
            "_________________________________________________________________\n",
            " Layer (type)                Output Shape              Param #   \n",
            "=================================================================\n",
            " inputs (InputLayer)         [(None, 150)]             0         \n",
            "                                                                 \n",
            " embedding (Embedding)       (None, 150, 50)           50000     \n",
            "                                                                 \n",
            " lstm (LSTM)                 (None, 64)                29440     \n",
            "                                                                 \n",
            " FC1 (Dense)                 (None, 256)               16640     \n",
            "                                                                 \n",
            " activation (Activation)     (None, 256)               0         \n",
            "                                                                 \n",
            " dropout (Dropout)           (None, 256)               0         \n",
            "                                                                 \n",
            " out_layer (Dense)           (None, 1)                 257       \n",
            "                                                                 \n",
            " activation_1 (Activation)   (None, 1)                 0         \n",
            "                                                                 \n",
            "=================================================================\n",
            "Total params: 96,337\n",
            "Trainable params: 96,337\n",
            "Non-trainable params: 0\n",
            "_________________________________________________________________\n"
          ]
        }
      ]
    },
    {
      "cell_type": "code",
      "source": [
        "model.fit(sequences_matrix,Y_train,batch_size=128,epochs=10,\n",
        "          validation_split=0.2,callbacks=[EarlyStopping(monitor='val_loss',min_delta=0.0001)])"
      ],
      "metadata": {
        "colab": {
          "base_uri": "https://localhost:8080/"
        },
        "id": "SFWX3pINK1AK",
        "outputId": "954fcbba-1448-4a97-bb11-964c08960c81"
      },
      "execution_count": null,
      "outputs": [
        {
          "output_type": "stream",
          "name": "stdout",
          "text": [
            "Epoch 1/10\n",
            "30/30 [==============================] - 11s 248ms/step - loss: 0.3211 - accuracy: 0.8757 - val_loss: 0.1509 - val_accuracy: 0.9641\n",
            "Epoch 2/10\n",
            "30/30 [==============================] - 7s 232ms/step - loss: 0.0833 - accuracy: 0.9807 - val_loss: 0.0836 - val_accuracy: 0.9821\n"
          ]
        },
        {
          "output_type": "execute_result",
          "data": {
            "text/plain": [
              "<keras.callbacks.History at 0x7f7d89091d90>"
            ]
          },
          "metadata": {},
          "execution_count": 29
        }
      ]
    },
    {
      "cell_type": "code",
      "source": [
        "test_sequences = tok.texts_to_sequences(X_test)\n",
        "test_sequences_matrix = pad_sequences(test_sequences,maxlen=max_len)"
      ],
      "metadata": {
        "id": "Wz129B3GRqYP"
      },
      "execution_count": null,
      "outputs": []
    },
    {
      "cell_type": "code",
      "source": [
        "print(test_sequences)"
      ],
      "metadata": {
        "colab": {
          "base_uri": "https://localhost:8080/"
        },
        "id": "09oYI0XUTbkh",
        "outputId": "b452b3cc-0315-4974-d559-94a33656d3d1"
      },
      "execution_count": null,
      "outputs": [
        {
          "output_type": "stream",
          "name": "stdout",
          "text": [
            "[[344, 242, 12, 13, 568], [193, 1, 59, 54, 417, 483, 383, 21, 99, 1, 412, 128, 19, 169, 149, 70, 258, 84, 58, 70, 611, 134, 1, 59, 483, 99, 70, 770, 84], [122, 58, 3, 17, 4, 130, 452], [404, 3, 141, 175, 187, 524, 2, 27], [4, 21, 24, 168, 76, 266, 43, 33, 300], [165, 18, 53, 22, 2, 104], [38, 11, 746, 228, 19], [124, 159, 48, 76, 136, 194, 20, 1, 27, 968, 15, 139, 5, 66, 57, 4, 166, 96, 7, 8, 99, 23, 20, 141, 166, 270, 14], [32, 959, 8, 21, 213, 582, 5, 362, 4, 191, 26, 142, 69, 4, 191, 26, 142, 2, 56, 868], [174, 11, 8, 692, 37, 11, 8, 55, 19, 391, 599], [10, 25, 45, 514, 44, 9, 5, 447], [800, 155], [87, 511, 32, 46, 60, 2, 11, 81, 7, 182, 908, 1, 509, 195, 568, 2, 128, 182, 291, 60, 462, 35, 46, 96], [21], [27, 129, 803, 34, 8, 78], [252, 28, 24, 33, 335, 440, 37, 11], [196, 4, 34, 3, 5, 15, 69, 2, 191], [74, 4, 32, 312, 44, 559, 513, 745, 29, 35, 18, 15, 4, 886, 915, 2, 736, 9, 5], [61, 4, 130, 66, 27, 17, 607, 4, 578, 73], [88, 2, 196, 559, 536, 137, 29, 5, 368, 35, 68, 80, 2, 2, 308, 222], [884, 399, 639, 63, 451, 19], [995, 43, 141, 1, 525, 5, 219], [34, 3, 22, 25, 58, 61, 382], [184, 12, 5, 14, 59, 840, 445, 17, 4, 130, 109], [86, 3, 58, 612, 49, 108], [1, 280, 5, 54, 15], [76, 466, 35, 75, 146, 26, 221, 104, 245, 34, 78, 18], [87, 87, 56, 997, 122], [588, 185, 563, 200, 142], [602, 102, 47, 480, 51, 72, 179, 2, 38, 482, 574, 96, 47, 63, 354, 138, 44, 887], [48, 48, 48, 58, 736, 32, 587, 422], [1, 137, 22, 3, 1, 17, 2, 51, 7, 11, 282, 31, 229], [3, 22, 2, 384, 4, 820, 478, 100, 16, 132, 153, 2, 482, 13, 478, 239, 3, 22, 494, 2, 384, 74, 4, 964, 90, 236], [30, 321, 12, 42, 41, 15], [31, 44, 51, 2], [24, 33, 18, 4, 7, 1, 121, 133, 235, 15, 600, 33, 216, 18, 4], [174, 6, 36, 154, 11, 613, 31, 117, 168, 85, 45, 44, 245, 5, 422], [27, 6, 85, 17, 7, 4, 39, 249], [3, 85, 205, 1, 249, 271, 4, 367], [106, 165, 335, 5, 468, 64, 350, 39, 17, 2, 30, 45, 31, 178, 66, 59, 5, 969, 56, 5, 238, 127, 1, 30, 81, 146, 31], [1, 2, 160, 18, 40, 358, 308], [3, 7, 13, 724, 269, 7, 131, 102, 283, 9], [196, 4, 283, 15, 44, 4, 15, 32, 701, 628, 927, 91, 559, 536, 312, 72, 512, 2, 863, 277, 138, 185], [6, 6, 168, 83, 337, 424, 207, 15], [382, 1, 57, 116, 843, 38], [661], [1, 226, 188, 5, 114, 159, 21, 100, 68, 4, 145], [297, 1, 62, 42, 41, 313, 125, 3, 55, 173, 362], [2], [148, 4, 137, 3, 51, 198, 35, 123], [812, 19, 765, 6, 104, 46, 58, 97, 10, 58, 1, 16, 99, 99, 97, 6], [98, 295, 2, 128, 350, 48, 61, 11, 347], [931, 5, 83, 89, 95, 20, 203, 196, 589, 37, 672, 72, 672, 2, 671, 687], [27, 121, 212, 610, 20, 372, 348, 1, 71, 19, 9, 11, 165, 663, 108], [48], [397, 302, 321, 2, 266, 5, 324], [38, 18, 43, 454, 624, 221, 440, 303], [87, 269, 120, 4, 409, 146, 167, 24, 431, 31, 91, 208, 245], [53, 6, 790, 753, 409, 167, 148, 951, 137, 13, 31], [25, 303, 567, 78, 2, 405, 33, 9, 538], [228, 2, 398, 23, 1, 140, 2, 51, 2, 5, 778, 2, 5], [457, 190, 104, 87], [6, 93, 52, 50, 1, 62, 1, 281, 221, 71, 2, 51, 2, 5, 1, 828, 33, 25, 4, 22, 12], [87, 27, 14, 31, 462, 94, 189], [22, 3, 2, 60, 836], [3, 29, 13, 206, 960, 5, 213, 12, 7, 103, 86, 6, 680], [587, 872, 22, 494, 2, 384, 4, 478, 34, 3, 4, 103, 16, 132, 428], [78, 89, 2, 218], [3, 57, 299, 9, 3, 29, 30, 178, 212, 9, 164, 9, 19, 26, 156, 484], [136, 20, 156, 44, 269], [61, 18, 9, 24, 120, 748, 14, 570, 176, 10, 377, 14, 7, 7, 210, 14], [193, 64, 142, 149, 64, 129], [39, 17, 34, 6, 71], [253, 79, 731, 38, 38, 50, 19, 99, 400, 269], [463, 5, 42, 41, 283, 658, 37, 4, 290, 7, 248, 33, 232, 2, 11, 180, 42, 41, 85, 242, 12, 20, 392], [28, 129, 16, 10, 31, 457, 457, 2, 136, 194, 357, 209, 45], [124, 252, 387, 39, 140, 228, 96, 133, 1, 257, 316, 660, 647, 718, 226, 45], [168, 1, 57, 4, 37, 63, 6, 7, 34, 33, 632, 166], [168, 490, 455, 405, 12, 5, 371, 15, 220, 269, 120, 133, 235, 779, 79, 290, 86, 3, 104], [28, 270, 6, 75, 947, 6, 45, 47, 32, 238, 83, 307, 34, 6, 71], [4, 285, 28, 17, 4, 840, 289, 20, 731, 221, 227, 105, 2, 230, 12, 322, 119, 23, 5, 368, 37, 13, 289, 846, 157, 17, 4, 752], [1, 98, 52, 124, 40, 358], [755, 84], [58, 53, 82, 422], [135, 430, 22, 3, 78, 2, 136, 10], [1, 545, 129, 303, 159], [275, 279, 15, 149, 2, 331, 245], [392, 37], [149, 64, 6, 327, 32, 96], [1, 52, 3, 22, 24, 226, 92, 198, 17, 107, 7, 61, 34, 92, 728, 455, 2, 105, 105, 29, 7, 34, 3, 160, 105, 21, 92, 29, 36, 61, 4, 92, 120, 239, 508, 9, 4, 301, 343, 14, 29, 80], [131, 102, 283], [98, 52, 801, 7, 1, 1, 111, 28, 294, 898, 133], [209, 36, 434, 4, 825, 15, 7, 11, 9, 14, 7, 58, 11, 302, 173, 54], [477, 5, 50, 22, 3, 154, 40, 8, 36, 3, 4, 130, 66], [31, 191, 157, 21], [1, 36, 547, 4, 969, 23, 168], [53, 1, 262, 224, 1, 97, 903, 385, 155, 1, 374, 97, 181, 2, 3, 3, 543, 412, 2, 11, 741, 7, 25, 37, 10], [400, 3, 198, 111, 198, 45, 4, 26, 112, 410, 50, 118, 70, 70, 45, 9, 55, 19], [240, 255, 17, 128, 160, 10, 4, 16, 34, 70, 53, 70, 544, 26, 120, 101], [130, 430, 1, 67, 7, 8, 11, 50, 82, 3, 1, 320, 592, 67, 42, 41, 549, 231, 127], [1, 20, 40, 119, 556, 15, 11], [189, 13, 90, 38, 177, 4, 811, 414, 565, 869, 147, 18, 880, 40, 8, 5, 432, 546, 2, 491, 3, 16, 962], [106, 337, 107, 48, 18, 21, 135, 18, 12, 4, 334, 15, 4, 557, 379, 20, 1, 17, 31, 23, 77, 2, 30, 81, 99, 418, 20, 655, 709, 12, 6], [79, 76, 16, 104], [793, 197, 25, 651, 4, 347, 25, 4, 61, 4, 239, 463, 1, 29, 35, 37, 3, 113], [61, 4, 361, 15, 974], [137, 8, 20, 73, 66], [13, 82, 10, 121, 219, 19, 156, 44, 229, 274, 305, 25, 464, 416, 688, 100, 88], [851, 5, 660, 4, 99, 152, 143, 6, 353, 934, 219, 155, 715, 714], [970, 54, 1, 140, 67, 18, 114, 5], [132, 4, 417, 36, 16, 21, 17, 3, 177], [56, 447, 11, 67, 50, 476, 13, 66, 50, 115, 3, 218, 1, 125, 13, 122, 11, 756, 1, 111, 15, 3], [71, 2, 45, 32, 794, 37, 4, 536, 102, 206, 88, 19, 40, 69, 138, 250, 203, 5, 99, 309, 469, 419, 818, 389], [87, 28, 20, 553, 245], [91, 599, 180, 127, 36, 12, 105, 7, 724], [126, 3, 85, 71, 2, 51, 12, 654, 34, 39, 308, 31, 58, 28, 51, 7, 509, 5], [126, 4, 529, 1, 52, 8, 232, 11, 2, 30, 128, 112, 472, 35, 518, 2, 30, 4, 367, 2, 996, 245], [1, 140, 11, 623, 94, 47, 54], [87, 58, 22, 3, 287, 2, 282], [98, 52, 3, 525, 112, 623], [851, 5, 36, 663], [36, 302, 89, 81], [184, 12, 13, 458, 717, 153, 13, 90, 29, 35, 923, 44, 211, 141, 13, 206, 25, 103, 16, 236, 684], [1, 62, 96, 100, 207, 29, 295, 104], [726], [17, 4, 825, 127, 7, 43, 3, 486, 45, 2, 86, 40, 145, 1, 125, 3, 289, 49, 8, 74, 141, 35, 17, 4, 130, 167], [306, 48, 1, 51, 81, 426, 31, 5, 58, 1, 116, 129, 201, 78, 2, 18, 432, 256, 133, 24, 105, 720, 8, 31], [122, 300, 30, 5, 705, 458, 26, 591, 18, 90, 69, 206, 26, 2, 21, 679, 54, 72, 80, 354, 211], [89, 2, 47, 3, 385, 53, 711], [126, 83, 129, 85, 501, 209, 621, 5], [5, 212, 37, 6, 28, 2, 5, 2, 207, 187, 24, 5, 670, 110, 17, 14, 43, 6, 176, 51, 310, 14], [6, 23, 557, 150, 60, 89, 58, 367], [6, 16, 10, 31, 798, 48], [15, 193, 28, 351, 33, 25, 23, 48, 121, 652, 84, 323, 6, 293, 169, 137, 39, 51, 328, 1, 144, 6, 198, 169, 18, 710, 24, 70, 144, 6, 29, 169, 96], [1, 125, 3, 223, 24, 563, 198, 166, 55, 2, 86, 3, 146, 67, 10], [642, 83, 25, 64, 935, 110, 151, 20, 1, 62, 697, 15, 6, 159, 21, 7, 182, 592, 6, 111, 15, 10, 31, 764, 44, 4, 703, 722], [39, 25, 663, 303, 48, 84, 58, 39, 51, 99, 331, 6, 279], [168, 93, 51, 2, 433, 76, 35, 89, 224], [11, 756], [60, 205, 42, 496, 41, 652, 33, 60, 75, 64], [746, 25, 78, 150], [1, 29, 491, 224, 817, 167], [192, 240, 85, 25, 49, 20, 210, 3, 25, 194, 82, 10, 322, 26, 20, 240, 171, 269, 716, 71, 2, 284, 37, 220], [1, 111, 36, 607, 850, 184, 7, 86, 3, 706], [160, 10, 4, 2, 111, 111, 82, 14], [196, 5, 7, 5, 717, 15, 5, 589, 229, 88, 560, 229, 339, 2, 35, 5, 200], [171, 53, 273, 65, 3, 140], [23, 171, 439, 3], [23, 50, 22, 3, 166, 53, 22, 3, 45, 2, 477, 5, 7, 23, 18], [3, 4, 840, 109], [774, 8, 34, 5, 8, 694, 31, 180, 110, 215, 5, 12, 31, 406], [46, 510, 372, 91, 827, 536, 36, 68, 5, 347, 196, 2, 21, 241, 170, 142, 138, 250, 203], [884, 11, 36, 10, 20, 431, 5, 474, 23, 100, 215, 623], [587, 872, 22, 494, 2, 384, 4, 34, 3, 17, 4, 103, 16, 132, 428], [189, 180, 312, 329, 20, 3, 17, 177, 370, 158, 26, 4, 276, 16, 21, 2, 132, 170, 142, 359], [], [106, 552, 13, 16, 7, 11, 871, 49, 219, 53, 8, 13], [11, 733, 50, 22, 3, 154, 474, 8, 65, 4, 192, 224, 3, 27, 95, 183], [5, 368, 4, 342, 25, 348, 15, 5, 15, 399, 265, 24, 348, 15, 5, 15, 56, 265], [404, 26, 5, 208, 11, 324], [3, 22, 322, 223, 30, 13, 90, 815, 47, 138, 185, 16, 705, 489, 834, 12, 63, 156], [48, 623, 18, 61, 143, 43, 1, 30, 286, 12, 11], [561, 145, 40, 8, 4, 698, 199, 546, 3, 17, 561, 503, 242, 54, 91, 236, 678, 44, 919, 16, 21], [1, 67, 3, 3, 606, 11, 18, 14, 8, 25, 36, 4, 24, 14, 8, 4, 4, 362], [3, 17, 119, 561, 236, 222, 16, 21], [], [704, 130, 165, 78, 2, 218, 21, 17, 4, 56, 127], [275, 160, 10, 112, 64, 2, 614, 65], [50, 22, 3, 244, 3, 4, 130], [3, 29, 35, 9, 5, 208, 15, 20, 290], [812, 284, 243, 36, 190, 771, 13, 330, 7, 284, 16, 21, 243, 284, 222], [50, 498, 592, 112, 15, 5, 631], [466, 248, 234, 22, 287, 7, 1, 17, 12, 139, 1, 115, 371, 7, 859], [290, 40, 538, 8, 23, 23, 23, 1, 111, 286, 247, 30, 65, 224, 10], [3, 17, 177, 74, 4, 964, 236, 91, 944, 120, 3, 2, 196, 4, 147, 2, 482, 8, 415, 36, 16], [203, 730, 389, 19, 132, 3, 13, 132, 153, 239, 8], [79, 76, 16, 104, 9, 307], [61, 107, 4, 313, 66, 33, 36, 71, 2, 45, 7, 95, 4], [888, 196, 4, 540, 760, 34, 6, 52, 239, 5, 8, 9, 72, 2, 354, 211], [35, 219, 9, 4, 334, 36, 112, 296, 54], [142, 9, 40, 30, 121, 46, 36, 499, 116, 507, 44, 305, 142, 170, 142, 88, 44, 784], [427, 8, 3, 2, 35, 227, 251, 88, 135, 26, 38, 86, 128, 138, 214, 913, 6, 80, 68, 80, 793, 2], [122, 1, 376, 25, 60, 58], [729, 111, 1, 29, 51, 12, 14, 18, 926, 79, 1, 23, 260], [74, 73, 15, 91, 6, 28, 927, 5, 312, 44, 4, 737, 479, 191, 513, 745, 75, 37, 927, 2, 686, 69, 80], [317, 6, 799, 293, 155, 860], [75, 5, 143, 209, 450, 4, 159, 780, 5, 15, 5, 324, 23, 3, 28, 86, 239, 324, 14, 8, 36, 45, 224, 14], [28, 3, 103, 169, 53, 227, 481, 8, 418, 70, 71, 187, 102, 26, 754, 519, 14, 70, 63, 9, 5, 42, 41, 26, 101], [897, 32, 349, 575, 4, 15, 47, 26, 4, 513, 267, 16, 277, 138, 551, 354], [38, 303, 53, 22, 3, 154], [514, 84, 263, 28, 51, 44, 440, 571], [306, 181, 84, 34, 6, 257, 258, 148, 48], [124, 122, 142, 6, 104], [176, 10, 52, 50, 14, 9, 5, 213, 14, 28, 221, 35, 24, 3, 22, 54, 15, 20, 792, 61, 25, 23, 36, 7, 176, 10, 52, 9], [632, 96, 1, 471, 30, 20, 113], [228, 673, 113, 95, 183], [23, 32, 498, 128, 7, 50, 498, 8], [38, 10, 33, 9, 5, 242, 405], [11, 67, 50, 60, 14, 691, 3, 23, 313, 2, 266, 12, 1, 57, 13, 526, 18, 7, 59, 131, 2, 86, 173, 24, 59, 604, 3, 140, 451, 1, 172, 3], [33, 85, 751, 96, 399, 66], [38, 38, 1, 29, 392, 49], [17, 4, 56, 573, 377, 54, 12, 411, 43, 3, 30, 89, 39, 480, 82], [381, 512, 157, 31, 605, 140, 2, 51, 157, 53, 82, 6], [1, 71, 2, 908, 6, 73, 212, 6, 141, 25, 10, 87, 40, 8, 5, 145, 20, 3, 195], [79, 76, 16, 104], [27, 6, 803, 149, 64, 152, 208, 357], [181, 84, 34, 110, 49, 51, 58, 1, 51, 84], [28, 6, 426, 44, 10, 9, 94, 1, 57, 296, 545, 327, 303], [1, 379, 2, 97, 6, 1, 28, 30, 18, 18, 11, 114], [168, 1, 28, 85, 160, 3, 4], [20, 466, 78, 2, 9, 82, 973], [48, 160, 10, 229, 391, 1, 111, 1, 86, 105, 286, 11, 3, 210, 11, 613, 5, 902, 64], [430, 8, 13, 26], [38, 508], [19, 19, 19, 38, 121, 19, 771, 4, 403, 36], [304, 32, 23, 357, 273, 29, 448, 75, 32, 21, 456, 98, 169, 323, 70, 23, 118, 453], [407, 149, 70, 262, 10, 48, 84], [3, 17, 177, 4, 267, 478, 26, 404, 221, 370, 158, 2, 132, 32, 478, 16, 46, 18, 241, 61, 4, 153, 149, 27, 6, 111], [145, 47, 1, 62, 31, 18, 3, 28, 114, 10, 108, 74, 1, 17, 4, 114, 75, 11, 870], [214, 684, 12, 13, 69, 100, 138, 551, 686, 37, 80, 38, 634, 270], [281, 264, 479, 7, 1, 748, 25, 2, 721, 54], [168, 1, 141, 35, 518, 2, 76, 69, 3, 43, 33, 321, 2, 161, 45], [970, 59, 25, 372, 58], [244, 1, 210, 37, 3, 21], [18, 34, 3, 71, 5, 765, 1, 195, 58, 82, 274, 34, 3, 71, 404, 19], [122, 300, 168, 1, 411, 467, 20, 8, 884], [237, 892, 113, 17, 4, 217, 66], [50, 313, 120, 14, 107, 517, 3, 430], [1, 3, 45, 65, 224], [473, 612, 45, 137, 3, 360, 31], [61, 4, 984, 95, 14, 37, 3], [561, 44, 429, 96, 8, 32, 804, 66, 19, 175, 54, 171, 901, 588, 138, 185, 490, 4, 3], [1, 491, 81, 99, 352], [40, 22, 39, 519, 1, 144, 62, 7, 3, 439, 88], [305, 84, 610, 19, 149, 64, 6, 287], [38, 148, 25, 33, 951, 42, 41, 484, 658, 7, 35, 248, 47, 11, 286, 25, 2, 17, 2, 37, 40, 296, 40, 8, 296, 171, 1, 93, 97, 3], [124, 263, 263, 1, 411, 94], [3, 29, 51, 2, 1, 408, 522], [237, 892, 113, 509, 4, 217, 66], [36, 195, 201, 27, 3, 7, 9, 433, 430], [1, 17, 38, 248, 44, 879], [6, 52, 39, 31], [113, 10, 31, 9, 942, 6, 83, 287, 100, 16, 6, 345, 1, 471, 182, 491, 26, 97, 10, 239, 66, 6, 83, 287, 1, 62, 915, 61, 276], [64, 99, 289, 83, 5, 371, 234, 9, 91, 164, 64, 731, 220, 2, 662, 289, 7, 289, 731, 220, 2, 662, 64, 237], [381, 378, 21, 1, 57, 102, 299], [106, 413, 165, 424, 18, 5, 538, 31, 5, 7, 1, 374, 35, 81, 514, 82, 305, 785, 353, 27, 104, 16, 10, 104, 89, 714], [46, 116, 30, 841, 458, 46, 36, 88, 51, 2, 40, 145, 159, 21], [137, 22, 3, 53, 22, 3, 154, 22, 460, 18, 302, 5, 2, 13, 115, 3, 175, 4, 20, 14, 198, 139, 1, 77, 3], [126, 83, 6, 632, 101, 291], [115, 3, 5, 538, 22, 3, 119, 115, 3, 136, 4, 22, 3, 13, 451, 219, 440, 27, 3, 230, 11, 67], [38, 1, 29, 60, 94, 18, 5, 143], [240, 323, 39, 550, 2, 99, 142, 50, 84], [23, 6, 258, 19, 60, 12, 91, 440, 245, 4, 25], [33, 31, 81, 99, 321], [1, 62, 9, 433, 7, 17, 107, 45, 12, 55, 42, 41, 576], [51, 514, 791, 841, 694, 63, 9, 99, 130, 368, 152, 65, 57, 149], [98, 499, 607, 50, 861, 450, 102, 45, 18], [417, 84, 173, 812, 19, 266], [49, 152, 309, 44, 32, 925, 104], [846, 96, 1, 62, 260, 12, 42, 41, 190], [23, 8, 945, 879, 239, 8, 137, 1, 62, 50, 83, 6, 290, 49, 8, 56, 9, 298, 191, 89, 142, 6, 40, 337, 134, 59, 5, 116, 44], [1, 195, 11, 2, 7, 1, 140, 2, 27, 12, 4, 301, 1, 111, 34, 3, 22, 697, 15, 27, 4, 18, 390, 182, 199, 105, 474, 8, 73, 10, 5], [33, 247, 54, 11], [196, 5, 7, 5, 717, 15, 5, 589, 229, 88, 560, 229, 339, 2, 35, 5, 200], [306, 33, 85, 335, 483, 11, 11, 160, 10, 4], [844, 7, 155, 839, 60, 81, 47, 20, 335, 2, 11, 136, 10, 440, 7, 270, 10, 30, 321, 12, 11, 626, 22, 3, 194, 13, 321, 12, 20, 819, 15, 164], [65, 22, 112, 217, 108, 26, 65, 8, 99, 5], [184, 201, 12, 13, 88, 96, 43, 8, 32, 287, 9, 7, 83, 6, 85, 5, 7, 11, 733, 234, 22, 25, 415, 876, 182, 120, 227, 23, 1, 166, 77, 2, 111, 82, 50, 2, 136, 11, 248, 104], [1, 475, 3, 2, 16, 128, 21, 48], [864, 864, 610, 864, 11, 114, 864, 32, 214, 7, 1, 77, 32, 825], [721, 124, 184, 12, 592, 11, 66], [38, 344, 240, 171, 1, 140, 119, 464, 573, 18, 5, 538, 180, 109, 17, 341, 213, 24, 1, 111, 1, 376, 674, 40, 64], [445, 3, 1, 55, 3, 74, 122], [3, 31, 823, 3, 141, 264, 2, 54, 50, 118, 248, 761, 120, 12, 963, 7, 7, 1, 22, 292, 2, 54, 91], [79, 33, 381, 562, 9, 11, 849], [6, 23, 396], [6, 258, 19, 550, 278, 33, 9, 94, 21], [163, 136, 10, 10, 18, 72, 10, 13, 21, 163, 165, 504, 7, 77, 3, 21, 49, 390, 354, 211, 19, 68, 80], [9, 20, 942, 1, 332, 76, 86, 3, 31], [248, 3, 83, 4, 804, 835, 19, 132, 13, 147, 69, 248, 19, 219, 2, 160, 599, 69, 406], [970, 332, 110, 577, 57], [21, 816, 393, 155, 20, 63, 1, 28, 60], [23, 477, 125, 3, 22, 25, 219, 13, 95, 183, 284, 5], [61, 133, 260, 24, 61, 87, 244, 3, 5, 268], [1, 858, 14, 6, 246, 260, 486, 45, 23, 260], [306, 48], [392, 568, 1, 17, 7, 2, 3, 95, 183], [246, 4, 152, 99, 170, 1, 99, 152, 131, 66, 9], [137, 115, 6, 51, 11, 114, 8, 247, 982, 3, 17, 2, 522, 9, 108], [846, 11, 23, 62, 18, 266, 96], [197, 24, 25, 55, 20], [27, 6, 55, 5, 631, 9, 173, 23, 691, 54, 851, 5, 212, 395, 225], [33, 89, 52, 43, 286, 321], [174, 26, 1, 249, 36, 7, 656, 4, 75, 5, 308, 15, 5, 66], [193, 151, 129, 23, 1, 169, 129], [154, 816, 638, 84], [6, 17, 4, 854, 134, 8, 449, 19, 136, 199, 37, 6, 175, 54, 134, 110, 83, 993, 134, 920, 32, 23, 273, 16, 18], [33, 31, 139, 103, 16], [850, 39, 83, 108, 119, 109, 89, 213, 50, 115, 39, 27, 9, 5, 40, 452, 106, 2, 7, 7, 142, 6, 225], [1, 207, 852, 410, 7, 49, 58, 148, 397, 7, 33, 49, 124], [344, 68, 2, 568, 392, 14], [48, 1, 651, 384], [1, 383, 125, 61, 489, 20, 10, 193, 33, 166, 128, 3, 624, 300, 181, 2, 230, 82, 303], [6, 491, 150, 6, 258, 19, 51, 215, 200], [1, 97, 6, 383, 21], [168, 707, 174], [1, 62, 25, 335, 105, 153, 344], [50, 118, 8, 9], [6, 19], [1, 202, 1, 93, 17, 105, 153], [252, 166, 124, 38, 50, 58, 29, 110, 13, 720, 442], [306, 85, 193, 33, 9, 152, 1, 202, 142, 780], [275, 640, 97, 10, 50, 1, 803, 33, 25, 31, 81, 9, 94, 653, 149], [465, 14, 29, 60, 232, 96, 27, 74, 1, 144, 7], [113, 259, 79, 12, 5, 260, 96, 8, 5, 336, 15, 91, 641, 12, 123, 493, 901, 18, 2, 380, 589, 7, 86, 61, 227, 153, 42, 41, 98, 172, 4, 838], [593, 12, 70, 57, 658, 7, 57], [113, 107, 875, 2, 40, 8, 91, 698, 546, 2, 199, 6, 72, 243, 2, 659, 186, 805, 806, 685], [230, 55, 292, 201, 246], [8, 73, 15, 117, 19, 4, 208, 9, 23], [38, 77, 2, 215, 278, 12, 10, 1, 331], [38, 94, 78, 2, 295, 9, 378], [48, 28], [46, 510, 9, 19, 4, 888, 2, 196, 698, 256, 69, 2, 2, 384, 510, 582, 72, 406, 170, 619, 389], [1, 59, 45, 49, 127, 133, 82, 40, 148, 4, 39, 552, 4, 799, 127, 54, 37, 7, 3, 154, 11, 613], [126, 21, 62, 46, 3, 28, 16, 10], [48, 270, 10, 169, 34, 695, 460, 442, 4, 25], [103, 98, 151, 55, 20, 106, 106, 106], [1, 36, 57, 81, 163, 22, 3, 85], [1, 125, 13], [135, 1, 280, 23, 184], [140, 13, 90, 798, 26, 123, 6, 83, 2, 523, 2, 5, 333, 591, 37, 401, 12, 46, 16, 5, 90, 523, 250, 46, 18], [137, 22, 3, 1, 77, 3], [275, 412, 543, 847], [829, 691, 4, 437, 201, 39, 266, 9, 4, 670], [649, 14, 42, 41, 137, 3, 31], [356, 53, 64, 3, 71, 10, 2, 60, 45], [79, 2, 6, 201, 28, 215, 12, 11, 543, 201, 49, 19, 362, 121, 939, 424, 99, 719, 396], [106, 120, 107, 2, 32], [130, 1, 17, 2, 557, 21, 23], [97, 173, 5, 302], [125, 3, 22, 632, 130, 100, 10, 9], [24, 1, 550, 57, 55, 44], [351, 38, 77, 215, 23, 409, 193, 34, 215, 21, 1, 891, 11, 315], [27, 3, 71, 680, 755, 101, 419, 288, 69, 7, 4, 102, 355, 114, 12, 63, 646, 231, 109, 16, 26, 88, 12, 558, 146], [165, 36, 53, 13, 154, 159, 21], [81, 8, 300], [25, 302, 37, 40, 299, 219, 108], [126, 813, 7, 1, 22, 78, 2, 5, 766, 7, 335, 4, 929, 15, 1, 627, 834, 160, 10, 4, 43, 263, 327], [629, 243, 99, 626, 21, 798, 375, 535, 406, 542, 190, 63, 47], [79, 36, 2, 392, 20, 3, 93, 316, 947, 10, 45, 706, 31, 367, 47, 198, 20, 35, 48], [164], [106, 757, 50, 59, 139, 115, 6, 30, 372, 2, 13, 746, 49, 167, 1, 140, 4, 166, 56, 64, 180, 127, 165, 660, 54, 225, 24, 16, 10, 34, 6, 28], [38, 77, 2, 275, 133, 629, 323, 279, 15, 40], [3, 63, 10, 3, 28, 16, 101, 24, 3, 439, 221, 4, 16, 15, 637, 26, 221, 3], [33, 9, 474, 21, 99, 76, 35, 9, 94, 154, 112, 296, 160, 10, 4, 16, 43, 129, 83, 300], [7, 75, 43, 286, 300, 1, 627, 21], [25, 769, 63, 73, 66, 73, 37, 9, 73, 358, 39, 28, 327], [703, 868, 44, 32], [30, 37, 5, 286], [126, 6, 49, 353, 161, 44, 440, 31], [320, 5, 672, 37, 13, 12, 19, 102, 19, 30, 123, 400, 47, 250, 203, 233, 63, 270, 16], [87, 51, 7, 218, 122, 95], [10, 182, 94, 1, 230, 600, 127, 192, 583, 127, 113], [174, 110, 93, 52, 82, 11, 635, 114, 1, 249, 159, 21, 34, 1, 71], [16, 21], [195, 10, 485, 12], [23, 235, 265, 2, 35, 273, 31, 200, 24, 63, 162, 301, 29, 273, 2, 3, 541, 13, 180, 173, 541, 164, 95, 94], [48, 396], [126, 1, 552, 3, 15, 180, 127, 74, 11, 114, 59, 18, 5, 634, 1, 62, 307, 4, 251], [122, 33, 247, 327, 11, 21, 17, 4, 56, 255, 127], [215, 44, 4, 339, 19, 196, 566, 933, 12, 834, 634, 86, 250, 203, 834, 44, 38], [11, 756, 1, 172, 3, 53, 711], [661, 129, 258, 161, 31, 193, 10, 31, 21, 33, 25, 548, 96], [38, 51, 38, 12, 20, 405, 155, 420, 119], [13, 153, 7, 59, 461, 2, 13, 658, 153, 171, 209, 25, 877, 47, 3, 40, 283, 49, 5, 309, 9, 13, 57, 40, 153, 47, 11, 259], [168, 751, 118, 35, 5, 309, 942], [46, 145, 13, 602, 46, 69, 503, 75, 2, 40, 145, 37, 5, 347, 46, 12, 786, 138, 185], [38, 14, 59, 168, 413, 122, 20, 704, 561, 23, 1, 824, 11, 757, 160, 10, 4, 594, 104, 18, 40, 794, 67, 957, 269], [20, 59, 23, 650], [48, 1, 471, 295, 2, 128], [106, 28, 1, 103, 30, 4, 42, 41, 47, 3, 1, 408, 398, 3, 89, 75, 100], [204, 120, 91, 682, 222, 7, 13, 114, 904, 3, 2, 175, 54, 134, 14, 8, 16, 47, 4, 363, 186], [124, 1, 280, 3, 896], [28, 3, 69, 26, 22, 3, 133, 861, 800], [168, 466, 955, 319, 20], [50, 27, 259, 270, 220, 9, 110, 160, 5, 468, 903, 20, 220, 372, 341, 318, 7, 220, 5, 318], [79, 393, 1, 98, 743, 134, 393], [34, 39, 749, 14, 223, 3, 28, 952, 9, 37, 10], [135, 70, 17, 56, 316], [217, 217, 50, 8, 14, 460], [1, 208, 49, 32, 586, 18, 152, 150], [48, 24, 110, 144, 209, 57, 99, 802, 77, 19], [726, 8, 162, 56, 8, 7, 623, 8, 166, 217], [168, 12, 3, 31, 20, 452], [1, 34, 110, 22], [32, 158, 959, 8, 889, 602, 646, 2, 32, 158, 9, 21, 68, 51, 2, 659, 63, 186, 116, 805, 806, 685], [545, 31, 9, 11, 315, 78, 44, 440, 21, 6, 441, 23, 83, 110, 46, 245], [293, 323, 515, 1, 246, 57, 149, 357, 66, 129, 68, 10, 94, 226, 139, 73], [11, 164, 508, 4, 342, 2, 10, 25, 348, 1, 67, 11, 164, 24, 348, 1, 67, 5, 265, 9, 11, 164, 5, 368, 459, 173, 259, 1, 16, 173, 11, 368], [27, 6, 743, 173, 26, 722, 256, 35, 32, 849, 26], [34, 6, 257, 674, 58, 50, 1, 51, 19, 648], [404, 151, 106, 2, 7, 175, 54, 34, 57, 227, 666, 130, 26], [163, 6, 48], [65, 73, 148, 119, 6, 9, 5, 15], [174, 33, 25, 163, 24, 184, 12, 697, 15, 10], [1, 202, 50, 804, 3, 22, 20, 33, 397, 75], [293, 4, 66, 9, 32, 164, 56, 343, 160, 6, 885, 399, 343, 160, 6, 577, 22, 9, 164, 49, 22, 56, 167], [36, 57, 45, 17, 2, 35, 54, 15, 5, 405, 162, 225, 850, 1, 450, 5, 89, 583, 31, 464, 1, 31, 761, 2, 30, 45, 7, 58, 14, 59, 305, 341, 446, 9, 433], [1, 62, 78, 2, 823, 96, 29, 35, 300, 63, 31], [33, 78, 54, 2, 215], [38, 39, 14, 49, 23, 773, 17, 34, 58, 91, 2, 204, 248, 89, 9, 164], [22, 3, 159, 21], [32, 158, 959, 8, 889, 602, 646, 2, 32, 158, 9, 21, 68, 51, 2, 659, 63, 186, 805, 806, 685], [106, 137, 22, 3, 612, 31, 7, 25, 2, 51, 54, 1, 819, 15, 62, 24, 230, 1, 23, 28, 39, 51, 54, 706, 93, 316, 27, 3], [148, 297, 39, 28, 180, 4, 444, 437, 302, 123, 101, 64, 225], [263, 1, 743, 6, 61, 48, 184, 472, 320, 32, 724, 314], [38, 145, 38, 53], [126, 3, 262, 13, 261, 2, 328], [46, 401, 37, 47, 44, 358, 37, 680, 288, 121, 19, 481, 72, 182, 16, 26, 928], [78, 2, 95, 13, 163, 54], [23, 43, 27, 3, 353, 999], [55, 6, 618, 191, 302, 4, 165, 663, 108, 753, 19, 24, 34, 6, 83, 12, 11, 726, 1, 249, 721, 9, 955, 39, 210, 660, 2, 161, 9], [279, 112, 15, 175, 133, 861, 25, 660, 152, 1, 407, 303, 83, 32, 660, 44, 440, 387, 1, 376, 191, 518, 2, 470], [126, 22, 3, 693, 37, 10, 88, 10], [91, 599, 180, 127, 12, 105, 7, 724], [48, 24, 97, 10, 367, 119, 782, 6, 60, 1, 77, 19], [24, 11, 724, 25, 12, 181, 21, 62, 9, 405, 25, 228, 2, 81, 12, 24, 38, 73, 412, 10, 7, 171, 25, 287, 14, 731, 10, 230, 55], [48, 1, 475, 12, 248, 50, 861], [14, 249, 139, 773, 491, 4, 31, 5, 213, 307], [124, 58, 13, 114, 10, 24, 14], [33, 216, 449, 12, 119, 2, 35, 9, 5], [15, 240, 583, 3, 30, 108, 454], [37, 11, 732, 84, 39, 651, 299], [42, 41, 22, 3, 78, 2, 30, 20], [182, 106, 3, 107], [39, 17, 195, 12, 236, 222, 934, 2, 32, 568, 563, 12, 493, 199, 220], [87, 1, 11, 199, 20, 171], [324, 8, 5, 654, 5, 290, 59, 18, 42, 41, 945, 74, 276, 49, 22, 608, 435], [695, 255, 56, 2, 385, 47, 3, 50, 22, 3, 11, 113, 131, 102, 283, 124], [37, 5, 368, 8, 415, 6, 575, 196, 26, 656, 375, 37, 134, 8, 681, 2, 6, 8, 34, 6, 656, 6, 656, 34, 6, 196, 6, 85, 656], [595, 45, 125, 3, 140, 4, 130, 730, 27, 17, 4], [60, 89, 2], [106, 40, 8, 581, 47, 3, 22, 2, 384, 554, 9, 91, 147, 312, 103, 2, 132, 224, 880, 26, 13, 147, 29, 35, 2, 204, 524], [22, 3, 85, 302, 5], [48, 1, 62, 18, 5, 143, 2, 81, 106, 106], [167, 63, 1, 28, 48], [53, 283, 7, 50, 235], [48], [1, 62, 692, 367, 66, 266, 1, 62, 25, 122], [31, 5], [1, 28, 169, 205, 24, 490, 25, 4, 342, 9, 15, 45, 108], [307, 6, 8, 11, 139, 908, 10, 43, 471, 1, 27, 11, 139, 146], [36, 621, 520, 3], [7, 381, 9, 435], [56, 167, 165, 47, 7, 29, 25, 35, 518, 2, 60, 2, 435, 96], [4, 334, 129, 803, 70, 257, 134, 1, 62, 58, 982, 24, 70, 291, 847, 441], [275, 38, 81, 139, 2, 27], [1, 376, 60, 2, 12, 19, 343, 23, 3, 28, 35, 2, 95, 4, 266, 366, 1, 98, 422, 101, 11, 786, 77, 2, 327, 189], [126, 23, 736, 5, 422, 40, 424], [438, 1, 67, 6, 438, 438, 438, 121, 1, 67, 6], [252, 635, 209, 107, 2, 4, 929, 549, 134, 287], [106, 131, 102, 283, 1, 98, 627, 2, 24, 28, 3, 100, 176, 10, 52, 50, 118, 3, 180, 7, 50, 118, 40, 8, 184], [62, 18, 4, 89, 47, 23, 33, 25, 33, 223, 96, 29, 35, 205, 454, 27, 3, 904, 5, 672, 40, 109, 75, 5, 143], [8, 7, 10, 20, 269, 8, 779, 45, 5, 74, 39, 395], [635, 20, 247, 35, 225, 26, 104, 245], [257, 77, 2, 271, 45, 651, 718, 94, 99], [50, 115, 6, 52, 53, 1], [5, 963, 8, 55, 4, 599, 47, 11, 324, 763, 674, 159, 75, 14, 517, 31, 7, 3, 17, 2, 95], [595, 45, 11, 451, 11, 114, 31, 81, 7, 36, 547, 32, 503, 125, 3, 22, 56, 17, 4, 130, 452], [33, 18, 11, 143, 81, 228, 2, 610, 44, 11, 377, 58, 51, 495, 4, 334, 84], [74, 34, 1, 905, 335, 455, 569], [137, 9, 22, 3, 22, 3, 37, 543, 26, 713], [61, 48, 60, 2, 11, 81, 14, 217, 2, 161, 7, 246, 28, 243], [511, 32, 693, 555, 6, 895, 95, 14, 654, 322, 693, 8, 117, 468, 99, 489, 143, 15, 183, 99, 369, 17, 217, 66, 94], [298, 35, 31, 574, 9, 82, 156, 288, 24, 426, 54, 12, 10], [814, 74, 235, 74, 6, 55, 38, 19, 771, 6, 28, 221, 68, 19, 759, 72, 344, 2, 833], [153, 32, 349, 4, 730, 7, 249, 196, 4, 417, 178, 337, 72, 2, 354], [3, 17, 121, 102, 145, 103, 16], [87, 76, 35, 194, 2, 30, 45, 224, 7, 86, 595, 53], [6, 152, 201, 152, 261, 15, 32, 324], [79, 1, 93, 40, 153, 7, 62, 21, 134, 83, 6, 103], [263, 48, 58, 140, 440], [3, 28, 293, 27, 382], [1, 244, 1, 93, 111, 61, 247, 924, 20, 118, 24, 14, 29, 35, 123, 319, 448, 39, 30, 20, 224, 110, 749, 5, 39, 624, 140, 924, 517, 42, 41, 224, 1, 59, 221], [1, 64, 42, 41, 652, 8, 25], [1, 52, 3, 22, 24, 226, 92, 198, 17, 107, 7, 61, 34, 92, 728, 455, 2, 105, 105, 29, 7, 34, 3, 160, 105, 21, 92, 29, 36, 61, 4, 92, 120, 239, 508, 9, 4, 301, 343, 14, 29, 80], [182, 411, 5, 93, 60, 223, 350], [130, 639, 16, 2, 132, 13, 267, 370, 158, 26, 615, 513, 395, 2, 4, 284, 818, 21], [453, 390, 542], [106, 793, 239, 8, 309, 143, 2, 91], [12, 101, 628, 414, 787, 17, 3, 107, 39, 28, 85, 270, 16, 46, 26, 69, 89], [11, 280, 1, 216, 264, 2, 207, 131, 49, 5, 64, 24, 10, 43, 1, 62, 713], [401, 3, 22, 349, 4, 401, 16, 363, 558, 960, 343], [651, 21, 545, 45, 23, 4, 334, 28, 543, 228, 54, 352, 1, 226, 934, 21, 647], [2, 132, 32, 276, 68, 4, 530, 2, 18, 220, 203, 373, 346, 776, 80], [48, 84, 26, 6, 258, 10, 51, 426, 44, 6], [1, 664, 52, 311, 493, 1, 29, 169, 11, 7, 68, 3, 11, 8, 54, 15, 491, 21], [124, 4, 367, 446, 8, 118, 9, 319, 975, 931, 3, 480, 30, 23, 118, 123, 139, 300, 9, 4, 66, 319, 220, 37, 49, 20, 64], [585, 13, 795, 311, 644, 12, 329, 796, 797, 855, 197, 1, 427, 586, 16, 677, 428, 678, 798, 919], [103, 97, 10, 25, 49, 15, 11, 315, 22, 9, 13], [362, 741, 5, 944, 120, 494, 6, 12, 158, 26, 745, 16, 988, 373, 346, 241, 375, 363, 390, 359], [21, 30, 19, 5, 143, 665, 201], [253, 74, 231, 47, 42, 41, 893, 229, 120, 107, 2, 3], [106, 413, 36, 57, 89, 47, 139, 7, 1, 59, 2, 86, 6, 1, 125, 1, 439, 6, 223, 18, 5, 114, 96, 34, 6, 22, 45, 160, 10, 4, 16, 365], [56, 167, 11, 113, 17, 4, 130, 157, 66], [5, 556, 15, 18, 8, 2, 420, 254, 887], [21, 6, 55, 438, 55, 1, 8, 18, 94, 538, 81, 467, 120, 6, 44, 388, 605], [401, 3, 22, 349, 4, 401, 16, 363, 558, 960, 343], [1, 77, 2, 60, 81, 7, 160, 3, 112, 56], [317, 165, 159, 75, 317, 139], [48, 1, 27, 6, 52, 1, 57], [850, 472, 235, 56, 2, 6, 197], [39, 2, 30, 7, 29, 51, 89, 155], [61, 489, 2, 61, 261], [22, 3, 78, 2, 96], [1, 98, 17, 1, 471, 215, 73, 113], [264, 640, 879], [564, 288, 7, 808, 44, 46, 18, 429, 694, 18, 179, 809, 16, 723, 18, 762, 26, 928], [168, 160, 10, 4, 16, 34, 839, 57, 4, 670], [23, 98, 271, 45, 101, 50], [1, 71, 2, 1, 7, 1, 966, 123], [819, 15, 36, 552, 193, 15, 73, 9, 367, 23, 548, 9, 25, 194, 137, 2], [317, 101, 143, 39, 249, 188, 187, 45, 245], [53, 25], [169, 479, 26, 209, 262, 5, 584, 55, 817, 549, 150], [846, 96, 1, 62, 260, 12, 42, 496, 41, 190], [148, 48, 1, 803, 633, 24, 33, 166, 133, 629, 23, 1, 116, 6, 1, 647, 407, 149, 591, 92, 771, 44, 10, 73], [168, 13, 282, 31], [253, 11, 444, 969, 1, 36, 280, 874, 3, 74, 3, 210, 37, 13, 259, 3, 210, 989, 7, 68, 4, 364], [122, 77, 2, 224, 76, 176, 3, 52, 43, 33, 54], [126, 3, 57, 101, 568], [2, 35, 178, 127], [34, 3, 28, 136, 14, 101, 64, 245, 26, 3, 28, 148, 297, 36, 69, 10, 286, 205], [1, 509, 951, 16, 1, 427, 2, 6], [47, 966, 270], [1, 262, 105, 1, 140, 4, 213, 109, 92, 920, 33, 247, 982, 1, 262, 105, 61, 36, 4, 392, 382, 2, 35, 82, 24, 92, 281, 783], [209, 262, 128, 20, 209, 14, 20, 141, 1, 506, 717, 14], [43, 129, 357, 64, 543, 129, 81, 21], [33, 9, 94, 15, 94, 685, 18, 94, 159, 983, 870, 15, 94, 42], [43, 6, 67, 204, 98, 136, 173, 2, 67, 6, 74, 118, 74, 6, 27, 24, 67, 173, 23, 118, 20, 110, 98, 71, 2, 35, 989, 75, 699, 3, 237], [1, 408, 983, 105, 11, 114, 2, 243, 6], [122, 300, 30, 5, 705, 458, 26, 591, 18, 90, 69, 206, 26, 2, 21, 679, 54, 72, 80, 354, 211], [53, 1, 896, 2, 151, 8, 226, 192, 2, 86, 6, 201, 302, 629, 15, 40], [5, 8, 7, 33, 1, 17], [445, 3, 7, 75, 5, 143, 1, 36, 966], [122, 3, 262, 173], [396, 44, 6, 83, 4, 1, 111, 32, 609, 121, 6, 10, 45, 67, 6], [151, 610, 19, 6, 803, 137, 137, 83, 6, 21], [87, 1, 29, 195, 14, 201], [48, 5, 556, 43, 22, 129, 78, 2, 589, 1, 111, 148, 18, 256, 654, 280, 353, 51, 54, 37, 24, 92, 46], [102, 243, 19, 360, 9, 32, 918, 44, 36, 46, 19, 384, 702, 26, 31, 185, 72, 73, 261, 2], [250, 203, 123, 834, 47, 113, 15, 46, 834, 37, 130], [829, 8, 232, 24, 1, 17, 2, 188, 14, 45, 47, 128, 23, 76, 867, 75, 996, 9, 4, 444, 334], [897, 32, 349, 602, 15, 537, 26, 267, 46, 510, 19, 737, 888, 312, 72, 512, 2, 863], [305, 31, 27, 129, 316, 10, 4, 193, 1, 57, 38, 315, 96], [6, 83, 527, 75, 117, 134, 197, 681, 19, 6, 27, 654, 388, 4, 375, 322, 977, 9, 4, 237], [665, 179, 355, 401, 114, 8, 13, 16, 459, 390, 359, 16, 47, 233, 681, 608], [22, 267, 5, 333, 179, 114, 4, 862, 760, 26, 4, 628, 147, 72, 347, 482, 2, 38, 186], [25, 166, 593, 17, 38, 259, 33], [48, 84, 149, 64, 129, 327], [27, 3, 52, 171, 304, 453, 13, 23, 20, 73, 134, 8, 434, 12, 3, 603, 157, 448, 75, 13, 983, 37, 67], [1, 374, 23, 5, 360], [82, 204, 8, 49, 56, 38, 12, 20], [602, 102, 47, 480, 51, 72, 179, 2, 38, 482, 574, 96, 47, 63, 354, 138, 44, 887], [6, 28, 16, 21], [189, 13, 90, 153, 120, 107, 349, 37, 4, 615, 147, 267, 16, 47, 616, 272, 132, 507, 645, 63], [194, 34, 1, 30, 119, 47, 3, 20, 148, 7, 2, 4, 958], [106, 48, 36, 488, 19, 243, 654, 19, 6, 44, 4, 313, 64, 125, 32, 17, 56, 31, 67, 263, 62, 269], [1, 98, 52, 249, 3, 169], [33, 423, 5, 595, 56, 53, 22, 3, 154, 213], [63, 140, 13, 90, 3, 22, 2, 523, 2, 5, 333, 591, 401, 90, 12, 46, 16, 5, 90, 523, 250, 46, 18], [23, 477, 5, 219, 65], [115, 6, 30, 20, 145], [382, 149, 498, 6, 7], [24, 35, 4, 56, 285], [28, 129, 68, 10, 4, 15, 94], [28, 6, 10, 117], [40, 8, 5, 432, 64, 39, 17, 505, 19, 199, 6, 6, 17, 177, 5, 147, 19, 132, 8, 415, 16, 63, 542, 231, 670, 375, 535, 406], [7, 3, 7, 1, 86, 39, 28, 85, 45, 133], [53, 82, 40, 73, 58], [171, 1, 60, 9, 453, 3, 265], [106, 125, 6, 30, 40, 72, 107, 703, 21, 82, 211, 288, 260, 1, 111], [62, 63, 12, 56, 90, 393], [1, 226, 188, 5, 114, 159, 21, 100, 68, 4, 145], [13, 82, 10, 121, 219, 19, 156, 44, 229, 274, 305, 25, 464, 416, 688, 100, 88], [168, 70, 249, 35, 518, 2, 60], [9], [7, 1, 93, 422, 18, 5, 127, 24, 1, 570, 35, 89, 583, 260], [74, 231, 13, 750, 120, 107, 606, 74, 13, 12, 49, 933, 416, 2, 13, 259], [70], [23, 43, 27, 3, 353, 999], [148, 3, 9, 26], [1, 216, 243, 37, 3, 9, 1, 77, 248, 28, 3, 10], [50, 22, 3, 11, 67, 22, 3, 37, 13, 741, 64, 2, 295, 37, 128, 151, 126, 463, 253, 47, 5, 766], [48, 275, 225], [20, 198, 35, 130, 773, 35, 31, 5, 249, 161, 18, 26, 29, 30, 9, 636, 219, 452, 91, 95, 17, 4, 56, 109], [604], [661], [6, 17, 4, 854, 134, 8, 449, 19, 136, 199, 37, 6, 175, 54, 134, 110, 83, 993, 134, 920, 32, 23, 273, 16, 18], [323, 23, 260, 24, 1, 77, 2, 51, 99, 30, 94, 984], [74, 9], [53, 22, 3, 154, 9, 79, 24, 76, 466, 35, 9, 433, 75, 14, 322, 298, 31, 492, 43, 27, 3, 7], [56, 447, 163, 50, 476, 20, 66, 101, 299, 303, 1, 172, 3, 11, 67], [1, 55, 24, 131, 2, 54, 18, 5, 34, 14, 731, 3, 230, 291], [431, 166, 372, 21, 5, 20, 70, 223, 15, 14, 7, 45, 37, 7, 410, 49, 219, 227, 178, 391], [2, 132, 32, 276, 68, 4, 530, 2, 18, 220, 203, 373, 346, 776, 80], [135, 381, 24, 612, 78, 2, 14], [53, 731, 3, 468, 131], [130, 1, 904, 5, 24, 864, 105, 86, 3, 706], [28, 3, 97, 2, 103, 51, 2, 715, 15, 7, 786, 5, 97, 5, 53, 5, 8, 7, 169, 34, 92, 28, 65, 92, 141, 169, 204, 2, 392, 12, 5, 268, 212, 7, 61, 92, 105, 9, 61, 118, 92, 29, 35, 302, 9, 102], [166, 8, 292, 2, 97, 70, 28, 175], [1, 125, 3, 240, 5, 15, 322, 7, 819, 345, 128, 82, 7, 207, 13, 718, 7, 49, 5, 309], [11, 278], [33, 162, 131, 12, 3, 163, 969, 18, 593], [122, 300, 7, 369, 263, 49], [207, 607, 12, 10, 348, 1, 77, 3, 7, 1, 172, 3, 150, 7, 1, 761, 20, 3, 9, 325, 164], [597, 24, 1, 57, 720, 31, 44, 515, 99, 1, 59, 15, 78, 2, 648, 955, 99, 1, 617, 15, 31], [382, 84, 4, 334, 629, 133, 58, 323, 257, 6, 51, 81, 409, 19, 218, 96], [124, 124, 387, 912, 18, 424, 99, 719, 352], [1, 62, 18, 5, 143, 2], [3, 16, 549, 299, 96, 48, 7, 169, 173, 2, 45], [22, 9], [1, 172, 3, 1, 62, 166, 3, 624, 800, 2, 5, 551, 303, 2, 30, 2, 10, 93, 3, 172, 10], [1, 27, 55, 5, 650], [53, 8, 13, 311, 153], [1, 62, 78, 2, 218, 1, 62, 15], [857, 84, 207, 80, 26, 6, 258, 19, 51], [12, 163, 1, 6, 493, 104, 243, 269], [106, 115, 3, 475, 2, 82, 266], [5, 492, 584, 8, 5, 492, 116, 8, 67, 5, 492, 8, 509, 4, 358, 157, 244, 6, 492], [200, 560, 11, 582], [1, 226, 188, 5, 114, 159, 21, 100, 68, 4, 145], [3, 22, 4, 835, 3, 17, 107, 494, 2, 384, 370, 158, 26, 4, 615, 478, 395, 2, 4, 284, 818, 2, 132, 16, 390, 542], [471, 1, 68, 20, 2, 13, 568, 563], [48, 165, 25, 194, 53, 64, 1, 327, 146, 24, 1, 353, 5, 462, 37, 3, 193, 20, 198, 35, 67, 10, 365], [50, 1, 803, 115, 129, 94, 74, 275, 85, 9, 648], [87, 28, 1, 188, 45, 341, 43, 286, 300], [426, 31, 4, 578, 7, 1, 55, 6, 4, 342, 1, 52, 6, 55, 10, 55, 20, 23, 487], [761, 205, 141, 35, 122, 2, 13, 517, 3, 22, 23, 7, 3, 22, 9, 4, 325, 15], [252, 20, 59, 5, 200, 285, 1, 59, 247, 169], [97, 173, 6, 17, 4, 7, 36, 71, 2, 271, 121, 446, 15, 64], [194, 76, 86, 34, 1, 28, 60, 75, 9, 4, 334], [24, 76, 191, 78, 19, 648, 18, 11, 732, 77, 19, 95, 700], [651, 51, 99, 702, 44], [74, 4, 3, 22, 494, 2, 384, 4, 565, 30, 14, 2, 13, 72, 5, 347, 48, 2, 38, 2, 132, 186, 116], [6, 22, 2, 5, 309, 90, 815, 222, 9, 5, 203, 12, 833, 231, 457, 343, 514, 3, 68, 80, 2], [471, 1, 525, 220, 4, 15, 2, 207, 220, 63, 525, 73, 472], [33, 25, 287, 81, 44, 440], [3, 17, 121, 102, 145, 103, 16], [431, 119, 7, 198, 47, 5, 490, 38, 325, 1, 36, 98, 55, 110, 98, 77, 24, 38], [3, 15, 7, 885, 27, 17, 4, 696, 462], [149, 731, 6, 279, 76, 232, 24, 397, 1, 279, 33, 338, 19, 804, 11, 543, 31, 81, 1, 169, 128, 60, 99, 10, 150], [124, 8, 40, 5, 200, 64, 6, 271, 521, 765, 15, 526], [9, 94, 315], [100, 270, 10, 97, 20, 1, 226, 175, 105, 153, 124], [1, 71, 924, 148, 36, 7], [382, 24, 39, 383, 617, 6, 198, 169, 193, 6, 24, 39, 228, 383, 228, 54, 150, 23, 96, 25, 78, 54, 383, 16, 84], [33, 78, 2, 11, 472, 33, 78, 2, 35, 260, 441], [835, 74, 4, 964, 419, 236, 3, 17, 107, 494, 2, 147, 943, 2, 132, 16, 132, 428, 507, 576, 63], [1, 896, 451, 26, 159], [36, 852, 13, 552, 16, 11, 113, 741, 27, 17, 4, 696, 66], [184, 12, 40, 582], [38, 24, 773, 27, 2], [79, 76, 16, 104], [253, 477, 3, 7, 50, 115, 776, 51, 1, 59, 36, 2, 86, 34, 748, 2, 27, 181, 706, 25, 20, 33, 292, 2, 26, 181], [392, 54, 91, 15, 815, 834, 469, 7, 207, 13, 90, 7, 69, 2], [275, 151, 514, 55, 357, 1, 257, 215, 647, 847, 351], [126, 3, 28, 398, 37, 485, 63, 42, 41], [171, 382, 48, 472, 160, 10, 838], [378, 53, 418, 2, 117, 152, 986, 72, 117, 152, 26, 986, 2, 21, 44, 339, 19, 196, 559, 158], [5, 33, 242, 75, 5], [1, 25, 633, 651, 257, 258, 19, 51, 23, 409], [135, 1, 111, 23, 1, 62, 9, 435, 24, 11, 8, 9, 405, 1, 111, 310, 18, 12, 5, 180, 301, 343, 1, 439, 20, 232], [8, 9, 94], [990, 99, 438, 9, 117, 990, 28, 1, 758, 32, 983, 438, 323, 27, 6, 111, 1, 198, 557, 599, 990, 38, 142, 50, 14, 909, 9, 37, 119], [986, 8, 3, 2, 35, 105, 251, 88, 135, 26, 38, 86, 105, 138, 214, 913, 6, 80, 68, 80, 793, 2], [56, 167, 699], [17, 56, 452], [3, 29, 35, 40, 458, 320, 14], [6, 78, 2, 44, 7, 30, 4, 334, 30, 32, 613, 310, 14], [130, 226, 80, 94], [155, 65, 8, 38, 271, 9], [411, 2, 169, 82, 227], [92, 262, 2, 20, 70, 71, 9, 836, 348, 33, 460, 108], [204, 6, 52, 120, 475, 91, 682, 222, 19, 199, 3, 226, 332, 134, 16, 21, 49, 29, 35, 690, 274, 186], [665, 121, 283, 273, 935, 12, 19, 8, 574, 16, 21, 142, 246, 832, 49, 44, 46, 98, 172, 54], [3, 28, 136, 4, 9, 171, 27, 110, 30, 49, 5, 56, 296], [39, 691, 12, 4, 614, 7, 1, 219, 11, 7, 425, 141, 17, 31, 81, 86, 3, 146], [61, 55, 20, 566, 1, 111, 3, 9, 4, 918, 212], [22, 3, 455, 175, 54, 47, 138, 250, 203], [475, 34, 9, 46, 288, 860, 135, 57, 156, 98, 4, 410, 9, 343, 1, 970, 827, 156, 71], [410, 20, 8, 166, 7, 226, 12, 4, 734, 45, 12, 127, 54, 27, 6, 111, 65, 8, 1, 249, 12, 127, 998, 18], [106, 3, 36, 2, 246, 55, 2, 52, 34, 3, 210, 37, 5, 88, 46, 37, 135, 26, 38], [26, 298, 35, 4, 444, 55, 31, 5, 538, 80, 18, 5, 268], [100, 97, 20, 5, 22, 38, 978, 5, 248, 1, 59, 287], [38, 318, 37, 5, 1, 408, 27, 14, 159, 599, 24, 1, 98, 52, 227, 493], [33, 697, 20, 836, 379, 2, 60, 12, 620], [10, 133, 413, 1, 2, 838, 3, 122, 1, 3, 29, 95, 56, 183, 15, 10], [145, 112, 69, 520, 261, 520, 153, 520, 195, 626, 520, 520, 6, 4, 342, 310, 323, 425, 8, 520, 195, 873, 185], [126, 541, 21, 39, 161, 25, 221, 4, 64, 58, 50, 28, 1, 547, 5], [189, 561, 12, 96, 8, 13, 804, 66, 19, 175, 54, 171, 901, 588, 138, 185, 65, 8, 4, 890, 3], [1, 63, 139, 47, 2, 24, 424, 1, 226, 441, 352, 239, 238, 66, 6, 46], [3, 22, 207, 448, 445, 3], [1, 111, 12, 4, 999, 8, 5, 12, 265, 1], [62, 102, 19, 672, 98, 39, 948, 303, 29, 191, 696, 19, 142, 6, 103, 266, 116, 32, 918, 88, 269], [253, 47, 429, 12, 121, 46, 2, 834, 639, 7, 519, 457, 46, 461, 7, 973, 503, 88, 135, 389, 138, 429, 250, 203], [975, 6, 68, 351], [6, 17, 4, 854, 134, 8, 449, 19, 136, 199, 37, 6, 175, 54, 134, 110, 83, 993, 134, 920, 32, 23, 273, 16, 18], [54, 11, 259, 22, 12, 5, 902, 499, 7, 570, 35, 89, 583, 42, 41, 23, 230, 46, 2, 51, 7, 683, 20, 42, 41, 701], [79, 94, 162, 162, 79, 1, 62, 45, 37], [209, 648, 150], [3, 309, 377, 53, 3, 151, 655, 1, 30, 74, 4], [356, 773, 721, 54, 9, 4, 301], [33, 247, 35, 629, 2, 49, 66, 7], [1, 3, 22, 4, 633, 529, 7, 33, 292, 25, 2, 35, 4, 1, 17, 2, 30, 112, 5, 143, 7, 58, 264, 5, 27, 17, 4, 696, 66], [1, 895, 2, 555, 6], [35, 194, 2, 392, 13, 598, 39, 195, 600], [1, 151, 38, 74, 70, 8, 4, 290, 7, 1, 230, 604, 12, 128, 23, 1, 29, 51, 7, 1, 36, 488, 3, 2, 52, 1, 198, 466, 35, 800, 260, 372, 13, 127], [48, 38, 709], [33, 843, 254, 33], [184, 12, 13, 458, 717, 3, 29, 35, 923, 44, 231, 109, 3, 28, 686, 31, 755, 75, 581, 236, 684, 18], [564, 40, 109, 7, 7, 56, 2, 173], [67, 14, 5, 799, 31, 5, 435, 256, 941, 171, 3, 22, 572, 24], [357, 8, 326, 39, 28, 111, 15, 187, 2, 27, 70, 70, 17, 4, 217, 64, 245, 298, 466, 72, 6, 104, 193, 165, 365], [135, 33, 9, 435, 94], [1, 30, 54, 15, 282, 9, 9, 55, 42, 41, 391, 3, 52, 137, 8], [1, 624, 3, 1, 376, 17, 4, 929, 2, 68, 3, 146, 87, 1, 67, 263, 133], [23, 61, 2, 35, 290, 20, 110, 3, 9, 50, 22, 3, 36, 590, 106], [3, 12, 600], [897, 506, 320, 14, 7, 1, 244, 3, 235, 131, 2, 7, 3, 51], [124, 387, 39, 95, 152, 73, 31, 84, 257, 258, 647, 28], [29, 16, 155, 392, 9, 91, 164, 29, 47, 23, 100, 162, 812], [695, 56, 50, 22, 3, 137, 83, 6, 460, 21], [48, 21, 1, 62, 9, 538, 34, 1, 60, 225, 1, 29, 60, 146], [247, 176, 10, 52, 193, 603, 47, 276, 20, 66, 8, 287, 10, 153], [378, 53, 418, 2, 117, 152, 986, 72, 117, 152, 26, 986, 2, 21, 44, 339, 19, 196, 559, 158], [103, 16, 91, 236, 222, 981, 18, 453, 74, 3, 17, 177, 4, 267, 370, 158, 26, 554, 147], [209, 150], [94, 11, 9, 8, 9, 24, 325, 626, 8, 96, 24, 98, 14, 1, 471, 160, 3, 4, 273, 838, 34, 3, 207, 5, 854, 101, 143, 184, 12, 5], [1, 617, 6, 491, 352, 70, 144, 170], [172, 263, 77, 263, 71, 263, 67, 263], [1, 62, 25, 194, 82, 127, 1, 52, 63, 82], [477, 13], [593, 107, 852, 4], [165, 23, 118, 1, 198, 151, 68, 6, 4, 118, 339, 15, 8, 25, 227, 369], [148, 255, 30, 4, 622, 26, 71, 10, 2, 60, 175, 3], [306, 279, 15, 6, 647, 149], [171, 115, 1, 486, 45, 18, 11, 41], [1, 71, 2, 57, 2, 31, 42, 496, 41, 23, 3, 60, 2, 538, 31, 416], [36, 488, 2, 151, 410, 3, 360, 82, 40], [38, 1, 332, 773, 139, 20, 54, 119, 446, 155, 612, 2, 266, 517, 74, 120, 101, 9, 410, 54, 224, 5, 180, 734], [246, 217, 223, 19, 19, 11, 18, 19, 191, 754, 19, 9, 213, 633], [107, 45, 2, 212, 115, 3, 17, 4, 56, 336, 43, 22, 6, 1, 611, 96], [857, 70, 338, 24, 653, 235, 84, 70, 57, 169, 10, 19, 525, 24, 1, 279, 25, 23, 19, 51, 110, 279, 85, 25, 149], [1, 98, 61, 4, 740, 581, 453, 220], [189, 40, 8, 91, 432, 546, 2, 199, 6, 13, 147, 47, 600, 8, 85, 443, 2, 132, 16, 21], [253, 50, 61, 108, 75, 5, 143, 165, 56, 107, 18, 19, 37, 20, 529, 1, 948, 9, 23, 861, 39, 17, 2, 161, 45, 225, 851, 761, 524], [168, 55, 34, 14, 476, 55, 14, 115, 37, 11, 259, 11, 410, 9, 55, 367, 119, 446], [39, 17, 49, 23, 25], [1, 3, 249, 229, 549, 231, 127, 9, 101, 942], [96, 8, 66, 6, 10, 74, 741, 733, 38, 967, 508], [89, 9, 184, 12, 220, 45, 7, 220, 49, 7, 131, 86, 3, 225], [63, 351, 18, 239, 114, 11, 826, 28, 30, 84], [174, 1, 198, 24, 11, 198, 17, 4, 7, 97, 5, 902, 724, 50, 841, 7, 1, 62], [1, 125, 3, 52, 33, 85, 31, 3], [140, 13, 90, 457, 523, 2, 5, 333, 401, 355, 12, 46, 207, 32, 268, 153, 30, 46, 288, 461, 69, 135, 12, 4, 16], [13, 69, 47, 10, 4, 40, 64], [126, 8, 307, 85, 18], [1, 9, 369, 11, 11, 433, 9, 369, 10, 533, 561, 237], [38, 593, 61, 25, 11, 849, 57, 248, 323, 33, 6, 34, 6, 11, 568, 6, 35, 42, 41, 893, 7, 35, 42, 41, 893, 1, 28, 312, 11, 511, 14, 8, 42, 41, 893], [310, 297, 137, 141, 1, 934, 18, 3, 26, 9, 3], [125, 234, 228, 122, 31, 10, 1, 85, 77, 115, 6, 142, 117, 444, 212, 1, 451, 9, 5], [135, 7, 54, 15], [897, 839, 177, 286, 4, 835, 9, 91, 370, 147, 312, 16, 21, 147, 428], [34, 6, 166, 34, 6, 295, 34, 6, 98, 183, 53, 230, 6, 22, 466, 37, 13, 113, 157, 309, 259, 113], [25, 908, 261], [87, 731, 829, 8, 322, 900, 23, 3, 360, 22, 247, 683, 437, 1, 51, 188, 45, 5, 734, 7, 30, 963], [43, 22, 3, 78, 2, 13], [115, 6, 175, 4, 12, 1, 59, 7, 49, 66, 600], [38, 1, 93, 17, 592, 4, 362, 54, 15, 4], [2, 453, 7], [106, 61, 9, 22, 3, 85, 18, 40, 153], [970, 39, 226, 86, 34, 39, 28, 470, 7, 26, 418, 71, 713, 64], [22, 3, 31, 139, 159, 21], [148, 48], [10, 133, 8, 692, 2, 188, 45, 11, 7, 5, 465, 8, 287, 89], [46, 458, 88, 325, 26, 705, 916, 121, 19, 156, 44, 229, 314, 206, 46, 7, 274, 123, 43, 6, 470, 12, 833, 337], [3, 207, 590, 20, 286, 25, 24, 517, 70, 39, 207, 219, 7, 33, 1, 17, 23, 118, 238, 410, 2, 37, 20, 33, 571, 366, 40, 2, 14], [10, 255, 255], [78, 4, 162, 632, 7, 45, 37, 5, 268, 8, 5, 268, 64, 29, 425, 1, 534], [34, 1, 25, 307, 129, 49, 609, 58, 76, 51, 81, 84, 34, 129, 257, 230, 55, 978, 148, 48], [113, 92, 412, 10, 21], [483, 11, 724], [51, 137, 99, 215, 651, 215, 43, 39, 30, 65, 351], [1, 408, 160, 105, 366, 1, 17, 14, 519, 92, 144, 3, 39, 395], [27, 3, 216, 37, 13, 724], [81, 6, 362, 45, 18, 13, 180, 869, 34, 6, 17, 2, 623, 8, 300, 7, 33, 93, 169, 53, 1], [8, 32, 965, 9, 152, 26, 653, 442], [33, 9, 282, 115, 3, 30, 11, 69], [121, 51, 2, 992, 116, 19, 450, 18, 156, 5, 37, 983, 44, 933, 42, 41, 229, 32, 983, 61], [193, 10, 99, 11, 732, 57, 38, 278, 96, 11, 543, 228, 54, 23, 407, 19, 331, 9, 648, 26, 149], [11, 828, 20, 708, 8, 266, 12, 49, 238, 23, 14, 29, 35, 266, 12, 3, 101, 143, 16, 7, 14], [38, 596, 103, 506, 68], [39, 434, 14, 31, 8, 785, 74, 125, 85, 56, 2, 86, 3, 714], [16, 10, 43, 3, 829, 8, 22, 108, 11, 8, 45, 7, 1, 376, 25, 385, 461], [131, 102, 283, 430], [79, 59, 31, 5], [471, 1, 30, 11], [58, 6, 674, 84], [223, 2], [466, 25, 85, 78, 219, 112, 296, 108], [3, 291, 25, 17, 262, 20, 2, 229, 238, 799, 575], [597, 23, 1, 617, 6, 491, 313, 859, 352, 6, 19, 123, 343, 63, 1, 44, 123, 441], [174, 1, 52, 23, 150, 12, 146, 39, 202, 674, 9, 5, 15, 924, 210, 2, 30], [181, 8, 9, 63, 19, 200, 224, 302, 14, 734, 155, 14], [20, 66, 129, 151, 129, 866, 32, 613, 31, 8, 14, 412, 613, 27, 129, 803, 50, 118, 8, 4, 613, 866], [27, 707, 3, 71, 3, 52, 53, 5, 22, 39, 140, 4, 295, 955, 40, 109, 82, 53, 140, 2, 345, 3, 303, 178, 109, 148, 28, 1, 5, 40, 143, 53, 82, 20, 143, 27, 707, 33, 15, 335, 268, 37, 3, 178, 109, 7, 4, 42, 41, 562, 5, 286, 85, 302, 9, 155, 121], [53, 27, 6, 71, 43, 1, 60, 89, 4, 578, 74, 4, 15, 11, 254, 12, 3, 310, 53, 1, 29, 160, 24, 63, 2, 11, 403, 15, 11, 35, 20, 7, 86, 38, 73, 28, 160, 3, 20, 98, 16, 10, 1, 29, 192, 541, 1, 60], [49, 29, 35, 122, 9, 4, 301], [79, 76, 16, 104, 42, 41, 288], [1, 59, 31, 651, 21, 149, 24, 21, 33, 81, 847, 275, 23, 260, 58, 88, 1, 647, 547, 4, 540, 357, 1, 55, 24, 215, 137, 83, 129, 21], [50, 60, 6, 57, 382, 2, 27], [470, 5, 910, 222, 7, 6, 28, 17, 842, 985, 36, 45, 7, 5, 72, 510, 2, 21, 917, 116, 186], [25, 133, 260, 2, 717, 12, 837, 16, 2, 208, 13, 717, 224, 146], [310, 297, 1, 13, 3, 22, 162, 421], [130, 102, 340, 564, 288, 564, 72, 18, 309, 429, 7, 30, 333, 401, 44, 46, 16, 723, 46, 18, 762, 21, 26, 170, 277], [106, 137, 3, 3, 9, 81, 26], [798, 14, 8, 58, 122, 39, 49, 45, 7, 409, 40, 167], [11, 38, 9, 594, 10, 34, 32, 205], [25, 303, 140, 263, 531, 7], [36, 68, 4, 69, 773, 104], [96, 66, 34, 6, 67, 11, 160, 10, 121, 157, 68, 40, 2, 32, 157, 86, 50, 235, 172, 459, 6, 30, 34, 6, 30, 6, 32], [38, 143, 33, 78, 89, 65], [71, 2, 770, 17, 278, 96], [5, 324, 8, 18, 5, 37, 4, 4, 45, 37, 4, 134, 9, 5], [603, 2, 11, 316, 275, 270, 10, 215, 84, 32, 984, 25]]\n"
          ]
        }
      ]
    },
    {
      "cell_type": "code",
      "source": [
        "accr = model.evaluate(test_sequences_matrix,Y_test)"
      ],
      "metadata": {
        "colab": {
          "base_uri": "https://localhost:8080/"
        },
        "id": "LftCrZF9RvXk",
        "outputId": "4af2f37d-ad27-460f-d938-39efbfd6f9d5"
      },
      "execution_count": null,
      "outputs": [
        {
          "output_type": "stream",
          "name": "stdout",
          "text": [
            "27/27 [==============================] - 1s 19ms/step - loss: 0.0688 - accuracy: 0.9809\n"
          ]
        }
      ]
    },
    {
      "cell_type": "code",
      "source": [
        "print('Test set\\n  Loss: {:0.3f}\\n  Accuracy: {:0.3f}'.format(accr[0],accr[1]))"
      ],
      "metadata": {
        "colab": {
          "base_uri": "https://localhost:8080/"
        },
        "id": "qO-N3Ns2Rz2T",
        "outputId": "78b64d5f-fdd8-49d6-dfbf-9f9f10ef744c"
      },
      "execution_count": null,
      "outputs": [
        {
          "output_type": "stream",
          "name": "stdout",
          "text": [
            "Test set\n",
            "  Loss: 0.069\n",
            "  Accuracy: 0.981\n"
          ]
        }
      ]
    },
    {
      "cell_type": "code",
      "source": [],
      "metadata": {
        "id": "9fc3uD7uS1oo"
      },
      "execution_count": null,
      "outputs": []
    },
    {
      "cell_type": "code",
      "source": [
        "import pickle"
      ],
      "metadata": {
        "id": "asiZyodTSgyI"
      },
      "execution_count": null,
      "outputs": []
    },
    {
      "cell_type": "code",
      "source": [
        "filename= \"my_model\"\n",
        "with open(filename, 'wb') as file:  \n",
        "    pickle.dump(model, file)"
      ],
      "metadata": {
        "colab": {
          "base_uri": "https://localhost:8080/"
        },
        "id": "77VHQuTWR7YK",
        "outputId": "2a2729e7-8e40-4b89-c2ae-1feb1d6fa830"
      },
      "execution_count": null,
      "outputs": [
        {
          "output_type": "stream",
          "name": "stderr",
          "text": [
            "WARNING:absl:Found untraced functions such as lstm_cell_layer_call_fn, lstm_cell_layer_call_and_return_conditional_losses while saving (showing 2 of 2). These functions will not be directly callable after loading.\n"
          ]
        }
      ]
    },
    {
      "cell_type": "code",
      "source": [],
      "metadata": {
        "id": "qFWRDfzdSqCQ"
      },
      "execution_count": null,
      "outputs": []
    }
  ]
}